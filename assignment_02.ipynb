{
 "cells": [
  {
   "cell_type": "code",
   "execution_count": 8,
   "id": "a3175c86",
   "metadata": {},
   "outputs": [
    {
     "name": "stdout",
     "output_type": "stream",
     "text": [
      "[]\n",
      "[1, 2, 3, 4, 5]\n"
     ]
    }
   ],
   "source": [
    "#Q1.\n",
    "#What will the following code display? \n",
    "\n",
    "numbers = [1, 2, 3, 4, 5] \n",
    "#The below line will return a blank list because it is slicing from the index 1 through \n",
    "# the fifth from the end of the list which in this case in index 0\n",
    "# slicing starts from beginning to end so in that case no items are selected\n",
    "print(numbers[1:-5])\n",
    "#Can you debug and fix the output? The code should return the entire list\n",
    "print(numbers[-5:])"
   ]
  },
  {
   "cell_type": "markdown",
   "id": "f17a3aa8",
   "metadata": {},
   "source": [
    "Q2. Design a program that asks the user to enter a store’s sales for each day of the week. The amounts should be stored in a list. Use a loop to calculate the total sales for the week and display the result."
   ]
  },
  {
   "cell_type": "code",
   "execution_count": 9,
   "id": "0c05acf5",
   "metadata": {},
   "outputs": [
    {
     "name": "stdout",
     "output_type": "stream",
     "text": [
      "Please provide the sales for Monday as a numeric number: 40\n",
      "Please provide the sales for Tuesday as a numeric number: 50\n",
      "Please provide the sales for Wednesday as a numeric number: 60\n",
      "Please provide the sales for Thursday as a numeric number: 70\n",
      "Please provide the sales for Friday as a numeric number: 80\n",
      "Please provide the sales for Saturday as a numeric number: 90\n",
      "Please provide the sales for Sunday as a numeric number: 100\n",
      "Total Sales for the week: 490.0\n",
      "Total sales for the week: 490.0\n"
     ]
    }
   ],
   "source": [
    "dow = ['Monday','Tuesday','Wednesday','Thursday','Friday','Saturday','Sunday']\n",
    "sales = []\n",
    "for day in dow:\n",
    "    try:\n",
    "        sales_input = float(input(f'Please provide the sales for {day} as a numeric number: '))\n",
    "    except:\n",
    "        print('Please submit a number for sales')\n",
    "    else:\n",
    "        sales.append(sales_input)\n",
    "total = 0\n",
    "for sale in sales:\n",
    "    total += sale\n",
    "print(f'Total Sales for the week: {total}')\n",
    "print(f'Total sales for the week: {sum(sales)}')"
   ]
  },
  {
   "cell_type": "markdown",
   "id": "5ef866eb",
   "metadata": {},
   "source": [
    "Q3. Create a list with at least 5 places you’d like to travel to. Make sure the list isn’t in alphabetical order\n",
    "● Print your list in its original order.\n",
    "● Use the sort() function to arrange your list in order and reprint your list.\n",
    "● Use the sort(reverse=True) and reprint your list."
   ]
  },
  {
   "cell_type": "code",
   "execution_count": 10,
   "id": "7510926d",
   "metadata": {},
   "outputs": [
    {
     "name": "stdout",
     "output_type": "stream",
     "text": [
      "Original List: ['sydney', 'south africa', 'costa rica', 'morocco', 'colombia']\n",
      "Sorted List: ['colombia', 'costa rica', 'morocco', 'south africa', 'sydney']\n",
      "Reverse Sorted List: ['sydney', 'south africa', 'morocco', 'costa rica', 'colombia']\n"
     ]
    }
   ],
   "source": [
    "destinations = ['sydney','south africa','costa rica','morocco','colombia']\n",
    "print(f'Original List: {destinations}')\n",
    "destinations.sort()\n",
    "print(f'Sorted List: {destinations}')\n",
    "destinations.sort(reverse=True)\n",
    "print(f'Reverse Sorted List: {destinations}')"
   ]
  },
  {
   "cell_type": "markdown",
   "id": "236d0c1a",
   "metadata": {},
   "source": [
    "Q4. Write a program that creates a dictionary containing course numbers and the room numbers of the rooms where the courses meet. The program should also create a dictionary containing course numbers and the names of the instructors that teach each course. After that, the program should let the user enter a course number, then it should display the course’s room number, instructor, and meeting time."
   ]
  },
  {
   "cell_type": "code",
   "execution_count": 11,
   "id": "aa244d02",
   "metadata": {},
   "outputs": [
    {
     "name": "stdout",
     "output_type": "stream",
     "text": [
      "Hello User! Please enter a course number (provided below) to find the instructor,location and meeting time for a respective course\n",
      "['DATA 602', 'DATA 605', 'DATA 606', 'DATA 607', 'DATA 608']\n",
      "Which course would you like to see more information on? data 602\n",
      "\n",
      " Course Selected: DATA 602:\n",
      "\n",
      " Instructor: Professor Smith\n",
      "\n",
      " Instructor: Tuesday at 6pm\n"
     ]
    }
   ],
   "source": [
    "course_instructors = {'DATA 602':{'instructor':'Professor Smith','class_time':'Tuesday at 6pm'},\n",
    "                      'DATA 605':{'instructor':'Professor Cohen','class_time':'Tuesday at 7pm'},\n",
    "                      'DATA 606':{'instructor':'Professor Green','class_time':'Wednesday at 7pm'},\n",
    "                      'DATA 607':{'instructor':'Professor Brown','class_time':'Thursday at 6:30pm'},\n",
    "                      'DATA 608':{'instructor':'Professor Johnson','class_time':'Monday at 6:30pm'}}\n",
    "course_rooms = {'DATA 602':'Room 1',\n",
    "                'DATA 605':'Room 3',\n",
    "               'DATA 606':'Room 5',\n",
    "               'DATA 607':'Room 8',\n",
    "               'DATA 608':'Room 10'}\n",
    "print('Hello User! Please enter a course number (provided below) to find the instructor,location and meeting time for a respective course')\n",
    "print(list(course_instructors.keys()))\n",
    "course_input = input('Which course would you like to see more information on? ').upper()\n",
    "if course_input in course_instructors.keys():\n",
    "    print('\\n',f'Course Selected: {course_input}:')\n",
    "    print('\\n',f\"Instructor: {course_instructors[course_input]['instructor']}\")\n",
    "    print('\\n',f\"Instructor: {course_instructors[course_input]['class_time']}\")\n",
    "else:\n",
    "    print('The course you inputted does not match the list. Please check to make sure quotes were not included in your input')"
   ]
  },
  {
   "cell_type": "markdown",
   "id": "eb0a2e3d",
   "metadata": {},
   "source": [
    "Q5. Write a program that keeps names and email addresses in a dictionary as key-value pairs. The program should then demonstrate the four options:\n",
    "● look up a person’s email address,\n",
    "● add a new name and email address,\n",
    "● change an existing email address, and\n",
    "● delete an existing name and email address."
   ]
  },
  {
   "cell_type": "code",
   "execution_count": null,
   "id": "cb426920",
   "metadata": {},
   "outputs": [],
   "source": [
    "school_emails = {'John Smith':'john.smith@cuny.edu',\n",
    "                 'Jennifer Barnes':'jennifer.barnes@cuny.edu',\n",
    "                 'Tori Pines':'tori.pines@cuny.edu',\n",
    "                'Jacob Tree':'jacob.tree@cuny.edu',\n",
    "                'Jane Patterson':'jane.patterson@cuny.edu',\n",
    "                'Jim Beam': 'jim.beam@cuny.edu'}"
   ]
  },
  {
   "cell_type": "code",
   "execution_count": 13,
   "id": "976952ff",
   "metadata": {},
   "outputs": [
    {
     "name": "stdout",
     "output_type": "stream",
     "text": [
      "Please type in the following function to review the subset of individuals with campus emails:\n",
      "\n",
      " 1) Look up a campus email address\n",
      "\n",
      " 2) Add a new user to the campus directory\n",
      "\n",
      " 3) Change an existing email address on file\n",
      "\n",
      " 4) Delete an existing user from this directory\n",
      "\n",
      "\n",
      "Please input the number associated with the action listed above1\n",
      "Please input an individual email address to be looked up: jim.beam@cuny.edu\n",
      "Yes, the system has the email jim.beam@cuny.edu for Jim Beam\n"
     ]
    }
   ],
   "source": [
    "school_emails = {'John Smith':'john.smith@cuny.edu',\n",
    "                 'Jennifer Barnes':'jennifer.barnes@cuny.edu',\n",
    "                 'Tori Pines':'tori.pines@cuny.edu',\n",
    "                'Jacob Tree':'jacob.tree@cuny.edu',\n",
    "                'Jane Patterson':'jane.patterson@cuny.edu',\n",
    "                'Jim Beam': 'jim.beam@cuny.edu'}\n",
    "print('Please type in the following function to review the subset of individuals with campus emails:')\n",
    "print('\\n','1) Look up a campus email address')\n",
    "print('\\n','2) Add a new user to the campus directory')\n",
    "print('\\n','3) Change an existing email address on file')\n",
    "print('\\n',\"4) Delete an existing user from this directory\")\n",
    "print('\\n')\n",
    "user_input = input('Please input the number associated with the action listed above')\n",
    "\n",
    "if user_input == '1':\n",
    "    email_lookup = input('Please input an individual email address to be looked up: ')\n",
    "    if email_lookup in school_emails.values():\n",
    "        print(f'Yes, the system has the email {email_lookup} for {list(school_emails.keys())[list(school_emails.values()).index(email_lookup)]}')\n",
    "    else:\n",
    "         print('No, the inputted email is not found') \n",
    "elif user_input == '2':\n",
    "    new_user = input('Please input a new user name for the directory: ')\n",
    "    new_email = input(\"Please input the user's email address: \")\n",
    "    if new_user in school_emails.keys():\n",
    "        print('This user already exists in the directory')\n",
    "    else:\n",
    "        school_emails[new_user] = new_email\n",
    "        print(f'{new_user} has been added!')\n",
    "elif user_input == '3':\n",
    "    user_name = input(\"Please input the user's name that you would like to replace: \")\n",
    "    if user_name in school_emails.keys():\n",
    "        new_email = input(\"Please provide the new email address to update\")\n",
    "        school_emails[user_name] = new_email\n",
    "        print(\"Success! The user's emails has been updated in the system\")\n",
    "    else:\n",
    "        print('The user you listed is not in our repository')\n",
    "elif user_input == '4':\n",
    "    del_user = input('Please provide the user that you would like to delete: ')\n",
    "    if del_user in school_emails.keys():\n",
    "        confirm = input('Are you sure you want to delete this user from the system? (input Y for yes)').upper()\n",
    "        if confirm == 'Y':\n",
    "            del(school_emails[del_user])\n",
    "            print(f'{del_user} was deleted from the system')\n",
    "        else:\n",
    "            print('Thanks, {del_user} has not been deleted')\n",
    "    else:\n",
    "        print('The repository does not have the user that you have submitted')\n",
    "else:\n",
    "    print('Please revise your input to the numeric prefix from above to be taken to the next follow up question')"
   ]
  }
 ],
 "metadata": {
  "kernelspec": {
   "display_name": "Python 3",
   "language": "python",
   "name": "python3"
  },
  "language_info": {
   "codemirror_mode": {
    "name": "ipython",
    "version": 3
   },
   "file_extension": ".py",
   "mimetype": "text/x-python",
   "name": "python",
   "nbconvert_exporter": "python",
   "pygments_lexer": "ipython3",
   "version": "3.6.6"
  }
 },
 "nbformat": 4,
 "nbformat_minor": 5
}
