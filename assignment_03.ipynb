{
 "cells": [
  {
   "cell_type": "markdown",
   "id": "6511d9ff",
   "metadata": {},
   "source": [
    "Q1: Write a program that prompts the user for a meal: breakfast, lunch, or dinner. \n",
    "Then using if statements and else statements print the user a message recommending a meal. For example, if the meal was breakfast, you could say something like, “How about some bacon and eggs?”\n",
    "The user may enter something else in, but you only have to respond to breakfast, lunch, or dinner."
   ]
  },
  {
   "cell_type": "code",
   "execution_count": 48,
   "id": "0d567007",
   "metadata": {},
   "outputs": [
    {
     "name": "stdout",
     "output_type": "stream",
     "text": [
      "Would you like a suggestion for breakfast, lunch, dinner? (please specify one meal) dinner\n",
      "You should make a lasagna\n"
     ]
    }
   ],
   "source": [
    "meal = input('Would you like a suggestion for breakfast, lunch, dinner? (please specify one meal) ')\n",
    "if meal.lower().strip()=='breakfast':\n",
    "    print('How about having pancakes?')\n",
    "elif meal.lower().strip()=='lunch':\n",
    "    print('You should make a sandwich')\n",
    "elif meal.lower().strip()=='dinner':\n",
    "    print('You should make a lasagna')\n",
    "else:\n",
    "    print('The meal provided does not match the provided list')"
   ]
  },
  {
   "cell_type": "markdown",
   "id": "35142150",
   "metadata": {},
   "source": [
    "Q2: The mailroom has asked you to design a simple payroll program that calculates a student employee’s gross pay, including any overtime wages. If any employee works over 20 hours in a week, the mailroom pays them 1.5 times their regular hourly pay rate for all hours over 20. \n",
    "You should take in the user’s input for the number of hours worked, and their rate of pay.\n"
   ]
  },
  {
   "cell_type": "code",
   "execution_count": 21,
   "id": "18e13751",
   "metadata": {},
   "outputs": [],
   "source": [
    "def calc_pay():\n",
    "    try:\n",
    "        hours = float(input('Please input the number of hours worked during this week: '))\n",
    "        salary = float(input('Please input your rate of pay: '))\n",
    "    except:\n",
    "        print('Please input a valid numeric value for both the hours and pay rate.')\n",
    "    else:\n",
    "        if hours>20:\n",
    "            print((hours-20)*1.5*salary + 20*salary)\n",
    "        else:\n",
    "            print(hours*salary)"
   ]
  },
  {
   "cell_type": "code",
   "execution_count": 30,
   "id": "ee549b41",
   "metadata": {},
   "outputs": [
    {
     "name": "stdout",
     "output_type": "stream",
     "text": [
      "Please input the number of hours worked during this week: 40\n",
      "Please input your rate of pay: 18\n",
      "900.0\n"
     ]
    }
   ],
   "source": [
    "calc_pay()"
   ]
  },
  {
   "cell_type": "markdown",
   "id": "aafcd246",
   "metadata": {},
   "source": [
    "Q3: Write a function named times_ten. The function should accept an argument and display the product of its argument multiplied times 10."
   ]
  },
  {
   "cell_type": "code",
   "execution_count": 34,
   "id": "24175725",
   "metadata": {},
   "outputs": [
    {
     "name": "stdout",
     "output_type": "stream",
     "text": [
      "aaaaaaaaaa\n",
      "100\n"
     ]
    }
   ],
   "source": [
    "def times_ten(input_value):\n",
    "    print(input_value*10)\n",
    "\n",
    "times_ten('a')\n",
    "times_ten(10)"
   ]
  },
  {
   "cell_type": "code",
   "execution_count": 17,
   "id": "39d72537",
   "metadata": {},
   "outputs": [
    {
     "name": "stdout",
     "output_type": "stream",
     "text": [
      "How many calories are in the first food?10\n",
      "How many calories are in the second food?10\n",
      "The total calories you ate today: 20.00\n"
     ]
    }
   ],
   "source": [
    "#Q4: Find the errors, debug the program, and then execute to show the output.\n",
    "\n",
    "def main(): #missing colon (:)\n",
    "    calories1 = int(input(\"How many calories are in the first food? \")) # fix tabbing/modify input data type\n",
    "    calories2 = int(input(\"How many calories are in the second food? \")) #fix tabbing/modify input data type\n",
    "    showCalories(calories1, calories2)\n",
    "\n",
    "def showCalories(calories1,calories2): #missing colon (:) & input parameters  \n",
    "    cals = calories1 + calories2 #combined to resolve formatting at runtime\n",
    "    print(f\"The total calories you ate today: {cals:.2f}\") #fixed indentation/quotation characters and modified string formatting method\n",
    "\n",
    "main()"
   ]
  },
  {
   "cell_type": "markdown",
   "id": "0dd373c4",
   "metadata": {},
   "source": [
    "Q5: Write a program that uses any loop (while or for) that calculates the total of the following series of numbers:\n",
    "         1/30 + 2/29 + 3/28 ............. + 30/1\n"
   ]
  },
  {
   "cell_type": "code",
   "execution_count": 44,
   "id": "9f6b2ff4",
   "metadata": {},
   "outputs": [
    {
     "name": "stdout",
     "output_type": "stream",
     "text": [
      "93.84460105853213\n"
     ]
    }
   ],
   "source": [
    "begin = 1\n",
    "end = 30\n",
    "totals = 0\n",
    "total_list = []\n",
    "while begin<=30:\n",
    "    totals+=begin/end\n",
    "    total_list.append(begin/end)\n",
    "    begin += 1\n",
    "    end -= 1\n",
    "    \n",
    "print(totals)"
   ]
  },
  {
   "cell_type": "code",
   "execution_count": 45,
   "id": "b8c02ddb",
   "metadata": {},
   "outputs": [
    {
     "data": {
      "text/plain": [
       "[0.03333333333333333,\n",
       " 0.06896551724137931,\n",
       " 0.10714285714285714,\n",
       " 0.14814814814814814,\n",
       " 0.19230769230769232,\n",
       " 0.24,\n",
       " 0.2916666666666667,\n",
       " 0.34782608695652173,\n",
       " 0.4090909090909091,\n",
       " 0.47619047619047616,\n",
       " 0.55,\n",
       " 0.631578947368421,\n",
       " 0.7222222222222222,\n",
       " 0.8235294117647058,\n",
       " 0.9375,\n",
       " 1.0666666666666667,\n",
       " 1.2142857142857142,\n",
       " 1.3846153846153846,\n",
       " 1.5833333333333333,\n",
       " 1.8181818181818181,\n",
       " 2.1,\n",
       " 2.4444444444444446,\n",
       " 2.875,\n",
       " 3.4285714285714284,\n",
       " 4.166666666666667,\n",
       " 5.2,\n",
       " 6.75,\n",
       " 9.333333333333334,\n",
       " 14.5,\n",
       " 30.0]"
      ]
     },
     "execution_count": 45,
     "metadata": {},
     "output_type": "execute_result"
    }
   ],
   "source": [
    "total_list"
   ]
  },
  {
   "cell_type": "markdown",
   "id": "4c7ebbd9",
   "metadata": {},
   "source": [
    "Q6: Write a function that computes the area of a triangle given its base and height.\n",
    "The formula for an area of a triangle is:\n",
    "AREA = 1/2 * BASE * HEIGHT\n",
    "\n",
    "For example, if the base was 5 and the height was 4, the area would be 10.\n",
    "triangle_area(5, 4)   # should print 10\n"
   ]
  },
  {
   "cell_type": "code",
   "execution_count": 46,
   "id": "d4af66f7",
   "metadata": {},
   "outputs": [],
   "source": [
    "def triangle_calc(base,height):\n",
    "    print(1/2 * base * height)"
   ]
  },
  {
   "cell_type": "code",
   "execution_count": 47,
   "id": "27f0e5fb",
   "metadata": {},
   "outputs": [
    {
     "name": "stdout",
     "output_type": "stream",
     "text": [
      "10.0\n"
     ]
    }
   ],
   "source": [
    "triangle_calc(base=5,height=4)"
   ]
  }
 ],
 "metadata": {
  "kernelspec": {
   "display_name": "Python 3",
   "language": "python",
   "name": "python3"
  },
  "language_info": {
   "codemirror_mode": {
    "name": "ipython",
    "version": 3
   },
   "file_extension": ".py",
   "mimetype": "text/x-python",
   "name": "python",
   "nbconvert_exporter": "python",
   "pygments_lexer": "ipython3",
   "version": "3.6.6"
  }
 },
 "nbformat": 4,
 "nbformat_minor": 5
}
